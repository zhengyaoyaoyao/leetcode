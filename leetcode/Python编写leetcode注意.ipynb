{
 "cells": [
  {
   "cell_type": "code",
   "execution_count": null,
   "outputs": [],
   "source": [
    "#链表反转\n",
    "\n",
    "def reverse_list(self,head):\n",
    "    previous = None\n",
    "    current = head\n",
    "    while current is not None:\n",
    "        next_node= current.next\n",
    "        current.next = previous\n",
    "        previous = current\n",
    "        current = next_node\n",
    "    return previous\n",
    "\n"
   ],
   "metadata": {
    "collapsed": false,
    "pycharm": {
     "name": "#%%\n"
    }
   }
  }
 ],
 "metadata": {
  "kernelspec": {
   "display_name": "Python 3",
   "language": "python",
   "name": "python3"
  },
  "language_info": {
   "codemirror_mode": {
    "name": "ipython",
    "version": 2
   },
   "file_extension": ".py",
   "mimetype": "text/x-python",
   "name": "python",
   "nbconvert_exporter": "python",
   "pygments_lexer": "ipython2",
   "version": "2.7.6"
  },
  "pycharm": {
   "stem_cell": {
    "cell_type": "raw",
    "source": [
     "# python编写leetcode注意事项：\n",
     "队列使用：collections.deque()：双向队列。queue是线程安全的。双向列表可以做栈也可以做队列。\n"
    ],
    "metadata": {
     "collapsed": false
    }
   }
  }
 },
 "nbformat": 4,
 "nbformat_minor": 0
}